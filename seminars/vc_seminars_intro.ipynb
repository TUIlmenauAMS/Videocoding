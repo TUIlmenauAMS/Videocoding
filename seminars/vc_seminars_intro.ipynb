{
 "cells": [
  {
   "cell_type": "markdown",
   "metadata": {},
   "source": [
    "<img src=\"./images/vc_logo.png?25\" alt=\"vc_logo\" style=\"height:300px\" >"
   ]
  },
  {
   "cell_type": "markdown",
   "metadata": {},
   "source": [
    "# General Information"
   ]
  },
  {
   "cell_type": "markdown",
   "metadata": {},
   "source": [
    " - Seminars will be in presence, and/or online. Some seminars will ONLY be online.\n",
    " - We will discuss the format of the seminars (presence/online) to see what suits us best.\n",
    " - For the online seminars we will use `Jitsi` and the link to the jitsi room is available at the Videocoding course page in Moodle.\n",
    " - Each seminar has to be done from one seminar to the next.\n",
    " - Check the course page constantly for changes in dates, format, materials updates, etc.\n",
    " - <a href=\" https://moodle2.tu-ilmenau.de/course/view.php?id=398\" target=\"_blank\">Videocoding Moodle Page at TU Ilmenau.</a>\n"
   ]
  },
  {
   "cell_type": "markdown",
   "metadata": {},
   "source": [
    "## Registration"
   ]
  },
  {
   "cell_type": "markdown",
   "metadata": {
    "hide_input": true
   },
   "source": [
    "To register for the seminars you MUST fill the form below. Only this way we can create your account in our `nbgrader` system with the correct information."
   ]
  },
  {
   "cell_type": "code",
   "execution_count": 6,
   "metadata": {
    "hide_input": true,
    "scrolled": false
   },
   "outputs": [
    {
     "data": {
      "text/html": [
       "<a href=\"https://forms.gle/A4GfTYpe6kQZX3Bc9\" target=\"_blank\">Registration Form</a>\n",
       "<iframe src=\"https://docs.google.com/forms/d/e/1FAIpQLScAtwtV2hfuZKj7Giaf8oKf2VYLElyWX2gaeMsxDrajXRKiag/viewform?embedded=true\" width=\"100%\" height=\"600\" frameborder=\"0\" marginheight=\"0\" marginwidth=\"0\">Loading…</iframe>\n"
      ],
      "text/plain": [
       "<IPython.core.display.HTML object>"
      ]
     },
     "metadata": {},
     "output_type": "display_data"
    }
   ],
   "source": [
    "%%html\n",
    "<a href=\"https://forms.gle/A4GfTYpe6kQZX3Bc9\" target=\"_blank\">Registration Form</a>\n",
    "<iframe src=\"https://docs.google.com/forms/d/e/1FAIpQLScAtwtV2hfuZKj7Giaf8oKf2VYLElyWX2gaeMsxDrajXRKiag/viewform?embedded=true\" width=\"100%\" height=\"600\" frameborder=\"0\" marginheight=\"0\" marginwidth=\"0\">Loading…</iframe>"
   ]
  },
  {
   "cell_type": "markdown",
   "metadata": {},
   "source": [
    "Only after submitting your response, we will be able to register you in our system and share the exchange folder in Nextcloud that is used to fetch and submit assignments."
   ]
  },
  {
   "cell_type": "markdown",
   "metadata": {
    "hide_input": true
   },
   "source": [
    "## Seminar Dates"
   ]
  },
  {
   "cell_type": "markdown",
   "metadata": {},
   "source": [
    "- First seminar: April 5, 2022\n",
    "- Tuesdays 15:00 - 16:30 K2003B (every even week)\n",
    "    - Seminar 01: 05.04.2022 - Presence\n",
    "    - Seminar 02: 19.04.2022 - Presence or Online\n",
    "    - Seminar 03: 03.05.2022 - Presence or Online\n",
    "    - Seminar 04: 17.05.2022 - Presence or Online\n",
    "    - Seminar 05: 31.05.2022 - ONLY Online\n",
    "- Dates can change, check the course homepage constantly!"
   ]
  },
  {
   "cell_type": "markdown",
   "metadata": {},
   "source": [
    "# Requirements"
   ]
  },
  {
   "cell_type": "markdown",
   "metadata": {},
   "source": [
    " - For these seminars you MUST use LINUX. It's not possible to submit the assignments using a different operating system.\n",
    " - At the Applied Media Systems Group we use Ubuntu. If you want to use a different Linux flavor you are on your own. If you use Ubuntu we can try to help you in case you have problems.\n",
    " - The assignments are to be solved using `Python` and `Jupyter Notebooks`.\n",
    " - The assignments are retrived and submitted using `nbgrader` and `NextCloud`."
   ]
  },
  {
   "cell_type": "markdown",
   "metadata": {},
   "source": [
    "## Linux"
   ]
  },
  {
   "cell_type": "markdown",
   "metadata": {},
   "source": [
    "There are basically 3 options how you can use Linux:\n",
    " - Main operating system.\n",
    " - Dual Boot.\n",
    " - Virtual Machine."
   ]
  },
  {
   "cell_type": "markdown",
   "metadata": {},
   "source": [
    "### Main operating system"
   ]
  },
  {
   "cell_type": "markdown",
   "metadata": {},
   "source": [
    "<a href=\"https://ubuntu.com/tutorials/install-ubuntu-desktop#1-overview\" target=\"_blank\">Install Ubuntu</a>"
   ]
  },
  {
   "cell_type": "markdown",
   "metadata": {},
   "source": [
    "### Dual Boot"
   ]
  },
  {
   "cell_type": "markdown",
   "metadata": {
    "hide_input": false
   },
   "source": [
    "<a href=\"https://linuxconfig.org/how-to-install-ubuntu-20-04-alongside-windows-10-dual-boot\" target=\"_blank\">Install Ubuntu alongside Windows: Dual Boot</a>"
   ]
  },
  {
   "cell_type": "markdown",
   "metadata": {},
   "source": [
    "### VirtualBox"
   ]
  },
  {
   "cell_type": "markdown",
   "metadata": {
    "hide_input": false
   },
   "source": [
    "<a href=\"https://ubuntu.com/tutorials/how-to-run-ubuntu-desktop-on-a-virtual-machine-using-virtualbox#1-overview\" target=\"_blank\">Install Ubuntu on a Virtual Machine</a>"
   ]
  },
  {
   "cell_type": "markdown",
   "metadata": {},
   "source": [
    "## Python"
   ]
  },
  {
   "cell_type": "markdown",
   "metadata": {},
   "source": [
    " - We use <a href=\"https://www.python.org/\" target=\"_blank\">`Python`</a>in the course Videocoding. \n",
    " - If you are not familiar with `Python` you should start getting familiar with it as fast as possible.\n",
    " - I can recommend two tutorials:\n",
    "     - Very Basic of Python Tutorial: <a href=\"https://github.com/GuitarsAI/PythonBasicsTutorial/blob/master/Python%20Basics.ipynb\" target=\"_blank\">A very basic python tutorial to get you started, very short in a cheat-sheet style.</a>\n",
    "     - Basics of Digital Audio Signal Processing and Machine Learning using Python: <a href=\"https://github.com/GuitarsAI/BDASPML\" target=\"_blank\">This is a from zero to hero series in which we learn fundamentals of Audio DSP and Machine Learning for Audio side-by-side with learning Python Programming and vice-versa </a> "
   ]
  },
  {
   "cell_type": "code",
   "execution_count": 7,
   "metadata": {
    "hide_input": true
   },
   "outputs": [
    {
     "data": {
      "text/html": [
       "<a href=\"https://youtube.com/playlist?list=PL6QnpHKwdPYi-600wCa4PPIrP2DpgKqFk\" target=\"_blank\">Basics for Digital Audio Signal Processing and Machine Learning for Audio</a>\n",
       "<iframe width=\"560\" height=\"315\" src=\"https://www.youtube.com/embed/videoseries?list=PL6QnpHKwdPYi-600wCa4PPIrP2DpgKqFk\" title=\"YouTube video player\" frameborder=\"0\" allow=\"accelerometer; clipboard-write; encrypted-media; gyroscope; picture-in-picture\" allowfullscreen></iframe>\n"
      ],
      "text/plain": [
       "<IPython.core.display.HTML object>"
      ]
     },
     "metadata": {},
     "output_type": "display_data"
    }
   ],
   "source": [
    "%%html\n",
    "<a href=\"https://youtube.com/playlist?list=PL6QnpHKwdPYi-600wCa4PPIrP2DpgKqFk\" target=\"_blank\">Basics for Digital Audio Signal Processing and Machine Learning for Audio</a>\n",
    "<iframe width=\"560\" height=\"315\" src=\"https://www.youtube.com/embed/videoseries?list=PL6QnpHKwdPYi-600wCa4PPIrP2DpgKqFk\" title=\"YouTube video player\" frameborder=\"0\" allow=\"accelerometer; clipboard-write; encrypted-media; gyroscope; picture-in-picture\" allowfullscreen></iframe>"
   ]
  },
  {
   "cell_type": "markdown",
   "metadata": {},
   "source": [
    "- Python comes preinstalled in Ubuntu.\n",
    "- However, I highly recommend that you use a `Virtual Environment`.\n",
    "- I recommend basically two types of `Virtual Environments`:\n",
    "    - <a href=\"https://docs.python.org/3/library/venv.html\" target=\"_blank\">`Conda:`Package, dependency and environment management for any language - Python, R, Ruby, Lua, Scala, Java, JavaScript, C/ C++, FORTRAN, and more.`</a>\n",
    "    - <a href=\"https://docs.conda.io/en/latest/\" target=\"_blank\">`venv:`Allow you to manage separate python package installations for different projects.</a>\n",
    "- <a href=\"https://www.anaconda.com/\" target=\"_blank\">`Anaconda:` A very nice solution that combines a Python distribution, dependency and enviromnet management using `conda` and preinstalled `Python` packages.</a>\n",
    " "
   ]
  },
  {
   "cell_type": "markdown",
   "metadata": {},
   "source": [
    "## Jupyter Notebooks"
   ]
  },
  {
   "cell_type": "markdown",
   "metadata": {
    "hide_input": true
   },
   "source": [
    " - We use `Jupyter Notebooks` in the course Videocoding.\n",
    " - <a href=\"https://jupyter.org/\" target=\"_blank\">The `Jupyter Notebook:`is a web-based interactive computing platform. The notebook combines live code, equations, narrative text, visualizations, ...</a>\n",
    " - Installing `Jupyter Notebooks` depends on the `Virtual Environment`that you chose:\n",
    "     - <a href=\"https://jupyter.org/install\" target=\"_blank\">Installation using `venv` or without a virtual environment.</a>\n",
    "     - <a href=\"https://docs.jupyter.org/en/latest/install/notebook-classic.html\" target=\"_blank\">Installation using `Anaconda`.</a>\n",
    " - If you are not familiar with `Jupyter Notebooks`I can recommend the following tutorials: <a href=\"https://youtube.com/playlist?list=PL6QnpHKwdPYgKlgb9MjaGVlN9YPEWdGkJ\" target=\"_blank\">Introduction to `Google Colab` for Research.</a> (The first 3 Tutorials).\n",
    " - `Google Colab`is a cloud solution based on `Jupyter Notebooks`. There are a few differences but the basic concepts are the same.\n",
    " "
   ]
  },
  {
   "cell_type": "code",
   "execution_count": 10,
   "metadata": {
    "hide_input": true
   },
   "outputs": [
    {
     "data": {
      "text/html": [
       "<a href=\"https://youtube.com/playlist?list=PL6QnpHKwdPYgKlgb9MjaGVlN9YPEWdGkJ\" target=\"_blank\">Introduction to `Google Colab` for Research.</a>\n",
       "<br>\n",
       "<iframe width=\"560\" height=\"315\" src=\"https://www.youtube.com/embed/videoseries?list=PL6QnpHKwdPYgKlgb9MjaGVlN9YPEWdGkJ\" title=\"YouTube video player\" frameborder=\"0\" allow=\"accelerometer; clipboard-write; encrypted-media; gyroscope; picture-in-picture\" allowfullscreen></iframe>\n"
      ],
      "text/plain": [
       "<IPython.core.display.HTML object>"
      ]
     },
     "metadata": {},
     "output_type": "display_data"
    }
   ],
   "source": [
    "%%html\n",
    "<a href=\"https://youtube.com/playlist?list=PL6QnpHKwdPYgKlgb9MjaGVlN9YPEWdGkJ\" target=\"_blank\">Introduction to `Google Colab` for Research.</a>\n",
    "<br>\n",
    "<iframe width=\"560\" height=\"315\" src=\"https://www.youtube.com/embed/videoseries?list=PL6QnpHKwdPYgKlgb9MjaGVlN9YPEWdGkJ\" title=\"YouTube video player\" frameborder=\"0\" allow=\"accelerometer; clipboard-write; encrypted-media; gyroscope; picture-in-picture\" allowfullscreen></iframe>"
   ]
  },
  {
   "cell_type": "markdown",
   "metadata": {},
   "source": [
    "## NextCloud"
   ]
  },
  {
   "cell_type": "markdown",
   "metadata": {},
   "source": [
    " - `Nextcloud`  is a suite of client-server software for creating and using file hosting services.\n",
    " - As a student at TU Ilmenau you have access to the <a href=\"https://cloud.tu-ilmenau.de/login\" target=\"_blank\">TU Ilmenau NextCloud.</a>"
   ]
  },
  {
   "cell_type": "markdown",
   "metadata": {},
   "source": [
    "### NextCloud Desktop Client Installation"
   ]
  },
  {
   "cell_type": "markdown",
   "metadata": {},
   "source": [
    " - Install Nextcloud desktop client (if not already there). Example:\n",
    " ```bash\n",
    "jimiHendrix@woodstock:~$ sudo apt install nextcloud-desktop\n",
    "```\n",
    " - After nextcloud starts, you should enter your information. The TU Ilmenau Nextcloud server is: <a href=\"https://cloud.tu-ilmenau.de/login\" target=\"_blank\">https://cloud.tu-ilmenau.de/</a>\n"
   ]
  },
  {
   "cell_type": "markdown",
   "metadata": {},
   "source": [
    "## NBgrader"
   ]
  },
  {
   "cell_type": "markdown",
   "metadata": {},
   "source": [
    " - We will use `nbgrader` for managing and evaluate students homeworks.\n",
    " - <a href=\"https://nbgrader.readthedocs.io/en/stable/\" target=\"_blank\">The `nbgrader:`is a tool that facilitates creating and grading assignments in the Jupyter notebook.</a>\n",
    " - Installing `nbgrader` depends on the `Virtual Environment`that you chose:\n",
    "     - <a href=\"https://nbgrader.readthedocs.io/en/stable/user_guide/installation.html\" target=\"_blank\">Installation using `venv`, without a virtual environment or using `conda`.</a>"
   ]
  },
  {
   "cell_type": "markdown",
   "metadata": {},
   "source": [
    "## Students Workflow"
   ]
  },
  {
   "cell_type": "markdown",
   "metadata": {},
   "source": [
    " - This is based on the terminal command line, but the same commands are also available in the Jupyter notebook, if the extensions are installed and enabled. Assume there is a seminar problem set with name \"pstest\".\n",
    " - Have the shared Nextcloud exchange directory, `e.g. “~/Nextcloud/tmp/exchange”`.\n",
    " - In your home directory, create a course home directory, like `~/VC/student_home`.\n",
    " - Copy (or write) the file “nbgrader_config.py” in the “student_home” directory. Adapt its exchange path to your own Nextcloud exchange directory (`/home/yourusername/Nextcloud/tmp/exchange`).\n",
    " - Make sure to enter your Matrikelnummer as your `student_id` in the `nbgrader_config.py` file as indicated below.\n",
    " - The `nbgrader_config.py` is Python file that should contain something like:\n",
    "```python\n",
    "c = get_config()\n",
    "c.CourseDirectory.course_id = \"VC\"\n",
    "c.CourseDirectory.student_id = \"Enter your Matrikel Number Here\"\n",
    "c.Exchange.root = \"/home/schuller/Nextcloud/tmp/exchange\n",
    "```\n",
    "\n",
    " - Then students can run (in the student_home directory):\n",
    "\n",
    "```bash\n",
    "jimiHendrix@woodstock:~$ nbgrader list\n",
    "```\n",
    " to see the assignments.\n",
    " \n",
    " - Then students can fetch the latest assignment with:\n",
    "\n",
    "```bash\n",
    "jimiHendrix@woodstock:~$ nbgrader fetch_assignment \"pstest\"\n",
    "```\n",
    "This creates a directory “pstest” with the *.ipynb files in it.\n",
    "\n",
    " - Students then work on the *.ipynb files there, starting “jupyter notebook” to enter their solution in their notebook, and/or add additional files there.\n",
    " - In the student_home directory (parent directory of “pstest”) submit it with command:\n",
    "\n",
    "```bash\n",
    "jimiHendrix@woodstock:~$ nbgrader submit \"pstest\"\n",
    "```\n",
    "This can be done multiple times, will be stored with different time stamps.\n",
    "\n",
    "This creates an `inbound ` directory in `~/Nextcloud/tmp/exchange`, if necessary, and puts the *.ipynb files there, with the students name, problem set name, submission time and a random number in the file names.\n",
    " - Students can check their submission in their home directory with command:\n",
    "\n",
    "```bash\n",
    "jimiHendrix@woodstock:~$ nbgrader list –inbound\n",
    "```\n",
    " - After grading, you can see your points with the command:\n",
    "\n",
    "```bash\n",
    "jimiHendrix@woodstock:~$ nbgrader fetch_feedback \"pstest\"\n",
    "```\n",
    "which is then in the `Student_home/pstest/feedback` directory as `html` file, which should be opened\n",
    "with a browser,\n"
   ]
  },
  {
   "cell_type": "code",
   "execution_count": null,
   "metadata": {},
   "outputs": [],
   "source": []
  }
 ],
 "metadata": {
  "kernelspec": {
   "display_name": "Python 3",
   "language": "python",
   "name": "python3"
  },
  "language_info": {
   "codemirror_mode": {
    "name": "ipython",
    "version": 3
   },
   "file_extension": ".py",
   "mimetype": "text/x-python",
   "name": "python",
   "nbconvert_exporter": "python",
   "pygments_lexer": "ipython3",
   "version": "3.6.10"
  },
  "toc": {
   "base_numbering": 1,
   "nav_menu": {},
   "number_sections": true,
   "sideBar": true,
   "skip_h1_title": false,
   "title_cell": "Table of Contents",
   "title_sidebar": "Contents",
   "toc_cell": false,
   "toc_position": {},
   "toc_section_display": true,
   "toc_window_display": false
  }
 },
 "nbformat": 4,
 "nbformat_minor": 4
}
