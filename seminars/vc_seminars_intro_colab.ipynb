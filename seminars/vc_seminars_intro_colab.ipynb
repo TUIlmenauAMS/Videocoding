{
  "cells": [
    {
      "cell_type": "markdown",
      "metadata": {
        "hide_input": true,
        "id": "TsDJ-pCV48zN"
      },
      "source": [
        "<img src=\"https://github.com/TUIlmenauAMS/Videocoding/blob/main/seminars/images/vc_logo.png?25&raw=1\" alt=\"vc_logo\" style=\"height:300px\" >"
      ]
    },
    {
      "cell_type": "markdown",
      "metadata": {
        "id": "ROoAWqqQ48zR"
      },
      "source": [
        "# General Information"
      ]
    },
    {
      "cell_type": "markdown",
      "metadata": {
        "id": "YY5XD3Vs48zS"
      },
      "source": [
        " - Instructor: Renato Profeta - renato.profeta@tu-ilmenau.de\n",
        " - Seminars will be in presence, and/or online. Some seminars will ONLY be online.\n",
        " - We will discuss the format of the seminars (presence/online) to see what suits us best.\n",
        " - For the online seminars we will use `Jitsi` and the link to the jitsi room is available at the Videocoding course page in Moodle.\n",
        " - Each seminar has to be done from one seminar to the next.\n",
        " - Check the course page constantly for changes in dates, format, materials updates, etc.\n",
        " - <a href=\" https://moodle2.tu-ilmenau.de/course/view.php?id=398\" target=\"_blank\">Videocoding Moodle Page at TU Ilmenau.</a>\n"
      ]
    },
    {
      "cell_type": "markdown",
      "metadata": {
        "id": "Nj-f-Ffi48zT"
      },
      "source": [
        "## Registration"
      ]
    },
    {
      "cell_type": "markdown",
      "metadata": {
        "hide_input": true,
        "id": "cEInhtMW48zT"
      },
      "source": [
        "To register for the seminars you MUST fill the form below. Only this way we can create your account in our `nbgrader` system with the correct information."
      ]
    },
    {
      "cell_type": "code",
      "execution_count": 2,
      "metadata": {
        "cellView": "form",
        "hide_input": true,
        "id": "oZnZaUpo48zT",
        "outputId": "7d5b757b-2269-42a0-9e53-ed724fd3f5f8",
        "scrolled": false,
        "colab": {
          "base_uri": "https://localhost:8080/",
          "height": 639
        }
      },
      "outputs": [
        {
          "output_type": "display_data",
          "data": {
            "text/plain": [
              "<IPython.core.display.HTML object>"
            ],
            "text/html": [
              "<a href=\"https://forms.gle/A4GfTYpe6kQZX3Bc9\" target=\"_blank\">Registration Form</a>\n",
              "<br>\n",
              "<iframe src=\"https://docs.google.com/forms/d/e/1FAIpQLScAtwtV2hfuZKj7Giaf8oKf2VYLElyWX2gaeMsxDrajXRKiag/viewform?embedded=true\" width=\"100%\" height=\"600\" frameborder=\"0\" marginheight=\"0\" marginwidth=\"0\">Loading…</iframe>"
            ]
          },
          "metadata": {}
        }
      ],
      "source": [
        "#@title\n",
        "%%html\n",
        "<a href=\"https://forms.gle/A4GfTYpe6kQZX3Bc9\" target=\"_blank\">Registration Form</a>\n",
        "<br>\n",
        "<iframe src=\"https://docs.google.com/forms/d/e/1FAIpQLScAtwtV2hfuZKj7Giaf8oKf2VYLElyWX2gaeMsxDrajXRKiag/viewform?embedded=true\" width=\"100%\" height=\"600\" frameborder=\"0\" marginheight=\"0\" marginwidth=\"0\">Loading…</iframe>"
      ]
    },
    {
      "cell_type": "markdown",
      "metadata": {
        "id": "Za6AE48g48zV"
      },
      "source": [
        "Only after submitting your response, we will be able to register you in our system and share the exchange folder in Nextcloud that is used to fetch and submit assignments."
      ]
    },
    {
      "cell_type": "markdown",
      "metadata": {
        "hide_input": true,
        "id": "Y4NG7nJg48zW"
      },
      "source": [
        "## Seminar Dates"
      ]
    },
    {
      "cell_type": "markdown",
      "metadata": {
        "id": "x-YLt0Ad48zX"
      },
      "source": [
        "- First seminar: April 5, 2022\n",
        "- Tuesdays 15:00 - 16:30 K2003B (every even week)\n",
        "    - Seminar 01: 05.04.2022 - Presence\n",
        "    - Seminar 02: 19.04.2022 - Presence or Online\n",
        "    - Seminar 03: 03.05.2022 - Presence or Online\n",
        "    - Seminar 04: 17.05.2022 - Presence or Online\n",
        "    - Seminar 05: 31.05.2022 - ONLY Online\n",
        "- Dates can change, check the course homepage constantly!"
      ]
    },
    {
      "cell_type": "code",
      "execution_count": 3,
      "metadata": {
        "hide_input": true,
        "colab": {
          "base_uri": "https://localhost:8080/",
          "height": 621
        },
        "cellView": "form",
        "id": "4-ejoWhod6VN",
        "outputId": "88219d43-86c7-4094-9e62-59903f73b303"
      },
      "outputs": [
        {
          "output_type": "display_data",
          "data": {
            "text/plain": [
              "<IPython.core.display.HTML object>"
            ],
            "text/html": [
              "<iframe src=\"https://calendar.google.com/calendar/embed?src=c_7o4jj5l44q9b5db5d2phsfhjbc%40group.calendar.google.com&ctz=Europe%2FBerlin\" style=\"border: 0\" width=\"800\" height=\"600\" frameborder=\"0\" scrolling=\"no\"></iframe>"
            ]
          },
          "metadata": {}
        }
      ],
      "source": [
        "#@title\n",
        "%%html\n",
        "<iframe src=\"https://calendar.google.com/calendar/embed?src=c_7o4jj5l44q9b5db5d2phsfhjbc%40group.calendar.google.com&ctz=Europe%2FBerlin\" style=\"border: 0\" width=\"800\" height=\"600\" frameborder=\"0\" scrolling=\"no\"></iframe>"
      ]
    },
    {
      "cell_type": "markdown",
      "metadata": {
        "id": "dezNC0hF48zX"
      },
      "source": [
        "# Requirements"
      ]
    },
    {
      "cell_type": "markdown",
      "metadata": {
        "id": "OTD99nz148zY"
      },
      "source": [
        " - For these seminars you MUST use LINUX. It's not possible to submit the assignments using a different operating system.\n",
        " - At the Applied Media Systems Group we use Ubuntu. If you want to use a different Linux flavor you are on your own. If you use Ubuntu we can try to help you in case you have problems.\n",
        " - The assignments are to be solved using `Python` and `Jupyter Notebooks`.\n",
        " - The assignments are retrived and submitted using `nbgrader` and `NextCloud`."
      ]
    },
    {
      "cell_type": "markdown",
      "metadata": {
        "id": "P185UeEld6VP"
      },
      "source": [
        "## Jitsi"
      ]
    },
    {
      "cell_type": "markdown",
      "metadata": {
        "id": "WOAD64pLd6VP"
      },
      "source": [
        "- `Jitsi`is a collection of free and open-source multiplatform voice, video conferencing and instant messaging applications for the web platform, Windows, Linux, macOS, iOS and Android.\n",
        "- You find the link to our Jitsi channel at the course Moodle's page: <a href=\" https://moodle2.tu-ilmenau.de/course/view.php?id=398\" target=\"_blank\">Videocoding Moodle Page at TU Ilmenau.</a>"
      ]
    },
    {
      "cell_type": "markdown",
      "metadata": {
        "id": "DVEi2WpV48zY"
      },
      "source": [
        "## Linux"
      ]
    },
    {
      "cell_type": "markdown",
      "metadata": {
        "id": "-fa_qqI948zY"
      },
      "source": [
        "There are basically 3 options how you can use Linux:\n",
        " - Main operating system.\n",
        " - Dual Boot.\n",
        " - Virtual Machine."
      ]
    },
    {
      "cell_type": "markdown",
      "metadata": {
        "id": "8bJ4yW1P48zZ"
      },
      "source": [
        "### Main operating system"
      ]
    },
    {
      "cell_type": "markdown",
      "metadata": {
        "id": "JomqPimG48zZ"
      },
      "source": [
        "<a href=\"https://ubuntu.com/tutorials/install-ubuntu-desktop#1-overview\" target=\"_blank\">Install Ubuntu</a>"
      ]
    },
    {
      "cell_type": "markdown",
      "metadata": {
        "id": "fw7-aFxC48zZ"
      },
      "source": [
        "### Dual Boot"
      ]
    },
    {
      "cell_type": "markdown",
      "metadata": {
        "hide_input": false,
        "id": "5lcFVbng48za"
      },
      "source": [
        "<a href=\"https://linuxconfig.org/how-to-install-ubuntu-20-04-alongside-windows-10-dual-boot\" target=\"_blank\">Install Ubuntu alongside Windows: Dual Boot</a>"
      ]
    },
    {
      "cell_type": "markdown",
      "metadata": {
        "id": "usT4zq7b48zb"
      },
      "source": [
        "### VirtualBox"
      ]
    },
    {
      "cell_type": "markdown",
      "metadata": {
        "hide_input": false,
        "id": "9cSpWrxA48zb"
      },
      "source": [
        "<a href=\"https://ubuntu.com/tutorials/how-to-run-ubuntu-desktop-on-a-virtual-machine-using-virtualbox#1-overview\" target=\"_blank\">Install Ubuntu on a Virtual Machine</a>"
      ]
    },
    {
      "cell_type": "markdown",
      "metadata": {
        "id": "-XZDYuT-48zc"
      },
      "source": [
        "## Python"
      ]
    },
    {
      "cell_type": "markdown",
      "metadata": {
        "id": "uTm4KcDA48zd"
      },
      "source": [
        " - We use <a href=\"https://www.python.org/\" target=\"_blank\">`Python`</a>in the course Videocoding. \n",
        " - If you are not familiar with `Python` you should start getting familiar with it as fast as possible.\n",
        " - I can recommend two tutorials:\n",
        "     - Very Basic of Python Tutorial: <a href=\"https://github.com/GuitarsAI/PythonBasicsTutorial/blob/master/Python%20Basics.ipynb\" target=\"_blank\">A very basic python tutorial to get you started, very short in a cheat-sheet style.</a>\n",
        "     - Basics of Digital Audio Signal Processing and Machine Learning using Python: <a href=\"https://github.com/GuitarsAI/BDASPML\" target=\"_blank\">This is a from zero to hero series in which we learn fundamentals of Audio DSP and Machine Learning for Audio side-by-side with learning Python Programming and vice-versa </a> "
      ]
    },
    {
      "cell_type": "code",
      "execution_count": 4,
      "metadata": {
        "cellView": "form",
        "hide_input": true,
        "id": "IhYHo49x48zd",
        "outputId": "29e9532c-3b7c-4665-c39e-9633062cfd67",
        "colab": {
          "base_uri": "https://localhost:8080/",
          "height": 354
        }
      },
      "outputs": [
        {
          "output_type": "display_data",
          "data": {
            "text/plain": [
              "<IPython.core.display.HTML object>"
            ],
            "text/html": [
              "<a href=\"https://youtube.com/playlist?list=PL6QnpHKwdPYi-600wCa4PPIrP2DpgKqFk\" target=\"_blank\">Basics for Digital Audio Signal Processing and Machine Learning for Audio</a>\n",
              "<br>\n",
              "<iframe width=\"560\" height=\"315\" src=\"https://www.youtube.com/embed/videoseries?list=PL6QnpHKwdPYi-600wCa4PPIrP2DpgKqFk\" title=\"YouTube video player\" frameborder=\"0\" allow=\"accelerometer; clipboard-write; encrypted-media; gyroscope; picture-in-picture\" allowfullscreen></iframe>"
            ]
          },
          "metadata": {}
        }
      ],
      "source": [
        "#@title\n",
        "%%html\n",
        "<a href=\"https://youtube.com/playlist?list=PL6QnpHKwdPYi-600wCa4PPIrP2DpgKqFk\" target=\"_blank\">Basics for Digital Audio Signal Processing and Machine Learning for Audio</a>\n",
        "<br>\n",
        "<iframe width=\"560\" height=\"315\" src=\"https://www.youtube.com/embed/videoseries?list=PL6QnpHKwdPYi-600wCa4PPIrP2DpgKqFk\" title=\"YouTube video player\" frameborder=\"0\" allow=\"accelerometer; clipboard-write; encrypted-media; gyroscope; picture-in-picture\" allowfullscreen></iframe>"
      ]
    },
    {
      "cell_type": "markdown",
      "metadata": {
        "id": "JtM-Lh2Y48ze"
      },
      "source": [
        "- Python comes preinstalled in Ubuntu.\n",
        "- However, I highly recommend that you use a `Virtual Environment`.\n",
        "- I recommend basically two types of `Virtual Environments`:\n",
        "    - <a href=\"https://docs.python.org/3/library/venv.html\" target=\"_blank\">`Conda:`Package, dependency and environment management for any language - Python, R, Ruby, Lua, Scala, Java, JavaScript, C/ C++, FORTRAN, and more.`</a>\n",
        "    - <a href=\"https://docs.conda.io/en/latest/\" target=\"_blank\">`venv:`Allow you to manage separate python package installations for different projects.</a>\n",
        "- <a href=\"https://www.anaconda.com/\" target=\"_blank\">`Anaconda:` A very nice solution that combines a Python distribution, dependency and enviromnet management using `conda` and preinstalled `Python` packages.</a>\n",
        " "
      ]
    },
    {
      "cell_type": "code",
      "execution_count": 5,
      "metadata": {
        "hide_input": true,
        "colab": {
          "base_uri": "https://localhost:8080/",
          "height": 354
        },
        "cellView": "form",
        "id": "zwf-idnQd6VT",
        "outputId": "08ab3851-7eb4-4791-bd51-e583d7709de3"
      },
      "outputs": [
        {
          "output_type": "display_data",
          "data": {
            "text/plain": [
              "<IPython.core.display.HTML object>"
            ],
            "text/html": [
              "<a href=\"https://youtu.be/o17UQRWf3Hk\" target=\"_blank\">Installing Anaconda on Ubuntu 20.04 and Creating a Conda Environment</a>\n",
              "<br>\n",
              "<iframe width=\"560\" height=\"315\" src=\"https://www.youtube.com/embed/o17UQRWf3Hk?start=214\" title=\"YouTube video player\" frameborder=\"0\" allow=\"accelerometer; autoplay; clipboard-write; encrypted-media; gyroscope; picture-in-picture\" allowfullscreen></iframe>"
            ]
          },
          "metadata": {}
        }
      ],
      "source": [
        "#@title\n",
        "%%html\n",
        "<a href=\"https://youtu.be/o17UQRWf3Hk\" target=\"_blank\">Installing Anaconda on Ubuntu 20.04 and Creating a Conda Environment</a>\n",
        "<br>\n",
        "<iframe width=\"560\" height=\"315\" src=\"https://www.youtube.com/embed/o17UQRWf3Hk?start=214\" title=\"YouTube video player\" frameborder=\"0\" allow=\"accelerometer; autoplay; clipboard-write; encrypted-media; gyroscope; picture-in-picture\" allowfullscreen></iframe>"
      ]
    },
    {
      "cell_type": "markdown",
      "metadata": {
        "id": "Wz2il7VH48ze"
      },
      "source": [
        "## Jupyter Notebooks"
      ]
    },
    {
      "cell_type": "markdown",
      "metadata": {
        "hide_input": true,
        "id": "E3a79NC_48zf"
      },
      "source": [
        " - We use `Jupyter Notebooks` in the course Videocoding.\n",
        " - <a href=\"https://jupyter.org/\" target=\"_blank\">The `Jupyter Notebook:`is a web-based interactive computing platform. The notebook combines live code, equations, narrative text, visualizations, ...</a>\n",
        " - Installing `Jupyter Notebooks` depends on the `Virtual Environment`that you chose:\n",
        "     - <a href=\"https://jupyter.org/install\" target=\"_blank\">Installation using `venv` or without a virtual environment.</a>\n",
        "     - <a href=\"https://docs.jupyter.org/en/latest/install/notebook-classic.html\" target=\"_blank\">Installation using `Anaconda`.</a>\n",
        " - If you are not familiar with `Jupyter Notebooks`I can recommend the following tutorials: <a href=\"https://youtube.com/playlist?list=PL6QnpHKwdPYgKlgb9MjaGVlN9YPEWdGkJ\" target=\"_blank\">Introduction to `Google Colab` for Research.</a> (The first 3 Tutorials).\n",
        " - `Google Colab`is a cloud solution based on `Jupyter Notebooks`. There are a few differences but the basic concepts are the same.\n",
        " "
      ]
    },
    {
      "cell_type": "code",
      "execution_count": 6,
      "metadata": {
        "cellView": "form",
        "hide_input": true,
        "id": "NspRBreI48zf",
        "outputId": "301352ea-9a06-46e7-ed0c-cf7bb02089ff",
        "colab": {
          "base_uri": "https://localhost:8080/",
          "height": 354
        }
      },
      "outputs": [
        {
          "output_type": "display_data",
          "data": {
            "text/plain": [
              "<IPython.core.display.HTML object>"
            ],
            "text/html": [
              "<a href=\"https://youtube.com/playlist?list=PL6QnpHKwdPYgKlgb9MjaGVlN9YPEWdGkJ\" target=\"_blank\">Introduction to `Google Colab` for Research.</a>\n",
              "<br>\n",
              "<iframe width=\"560\" height=\"315\" src=\"https://www.youtube.com/embed/videoseries?list=PL6QnpHKwdPYgKlgb9MjaGVlN9YPEWdGkJ\" title=\"YouTube video player\" frameborder=\"0\" allow=\"accelerometer; clipboard-write; encrypted-media; gyroscope; picture-in-picture\" allowfullscreen></iframe>"
            ]
          },
          "metadata": {}
        }
      ],
      "source": [
        "#@title\n",
        "%%html\n",
        "<a href=\"https://youtube.com/playlist?list=PL6QnpHKwdPYgKlgb9MjaGVlN9YPEWdGkJ\" target=\"_blank\">Introduction to `Google Colab` for Research.</a>\n",
        "<br>\n",
        "<iframe width=\"560\" height=\"315\" src=\"https://www.youtube.com/embed/videoseries?list=PL6QnpHKwdPYgKlgb9MjaGVlN9YPEWdGkJ\" title=\"YouTube video player\" frameborder=\"0\" allow=\"accelerometer; clipboard-write; encrypted-media; gyroscope; picture-in-picture\" allowfullscreen></iframe>"
      ]
    },
    {
      "cell_type": "markdown",
      "metadata": {
        "id": "gfcWYxvu48zf"
      },
      "source": [
        "## NextCloud"
      ]
    },
    {
      "cell_type": "markdown",
      "metadata": {
        "id": "CSpLxDzt48zg"
      },
      "source": [
        " - `Nextcloud`  is a suite of client-server software for creating and using file hosting services.\n",
        " - As a student at TU Ilmenau you have access to the <a href=\"https://cloud.tu-ilmenau.de/login\" target=\"_blank\">TU Ilmenau NextCloud.</a>"
      ]
    },
    {
      "cell_type": "markdown",
      "metadata": {
        "id": "NTAYeshu48zg"
      },
      "source": [
        "### NextCloud Desktop Client Installation"
      ]
    },
    {
      "cell_type": "markdown",
      "metadata": {
        "id": "uRH6Im3n48zg"
      },
      "source": [
        " - Install Nextcloud desktop client (if not already there). Example:\n",
        " ```bash\n",
        "jimiHendrix@woodstock:~$ sudo apt install nextcloud-desktop\n",
        "```\n",
        " - After nextcloud starts, you should enter your information. The TU Ilmenau Nextcloud server is: <a href=\"https://cloud.tu-ilmenau.de/login\" target=\"_blank\">https://cloud.tu-ilmenau.de/</a>\n"
      ]
    },
    {
      "cell_type": "code",
      "execution_count": 7,
      "metadata": {
        "hide_input": true,
        "colab": {
          "base_uri": "https://localhost:8080/",
          "height": 354
        },
        "cellView": "form",
        "id": "NB955PPfd6VW",
        "outputId": "9ea0a25d-ef1b-405b-fd70-a2486c2dfa6c"
      },
      "outputs": [
        {
          "output_type": "display_data",
          "data": {
            "text/plain": [
              "<IPython.core.display.HTML object>"
            ],
            "text/html": [
              "<a href=\"https://youtu.be/ZU73iRS__vI\" target=\"_blank\">Installing Nextcloud Desktop Client on Ubuntu 20.04 and Configuring TU Ilmenau Cloud for Exchange</a>\n",
              "<br>\n",
              "<iframe width=\"560\" height=\"315\" src=\"https://www.youtube.com/embed/ZU73iRS__vI\" title=\"YouTube video player\" frameborder=\"0\" allow=\"accelerometer; autoplay; clipboard-write; encrypted-media; gyroscope; picture-in-picture\" allowfullscreen></iframe>"
            ]
          },
          "metadata": {}
        }
      ],
      "source": [
        "#@title\n",
        "%%html\n",
        "<a href=\"https://youtu.be/ZU73iRS__vI\" target=\"_blank\">Installing Nextcloud Desktop Client on Ubuntu 20.04 and Configuring TU Ilmenau Cloud for Exchange</a>\n",
        "<br>\n",
        "<iframe width=\"560\" height=\"315\" src=\"https://www.youtube.com/embed/ZU73iRS__vI\" title=\"YouTube video player\" frameborder=\"0\" allow=\"accelerometer; autoplay; clipboard-write; encrypted-media; gyroscope; picture-in-picture\" allowfullscreen></iframe>"
      ]
    },
    {
      "cell_type": "markdown",
      "metadata": {
        "id": "lOv9sqTQ48zg"
      },
      "source": [
        "## NBgrader"
      ]
    },
    {
      "cell_type": "markdown",
      "metadata": {
        "id": "ohWz1r_v48zg"
      },
      "source": [
        " - We will use `nbgrader` for managing and evaluate students homeworks.\n",
        " - <a href=\"https://nbgrader.readthedocs.io/en/stable/\" target=\"_blank\">The `nbgrader:`is a tool that facilitates creating and grading assignments in the Jupyter notebook.</a>\n",
        " - Installing `nbgrader` depends on the `Virtual Environment`that you chose:\n",
        "     - <a href=\"https://nbgrader.readthedocs.io/en/stable/user_guide/installation.html\" target=\"_blank\">Installation using `venv`, without a virtual environment or using `conda`.</a>"
      ]
    },
    {
      "cell_type": "code",
      "execution_count": 8,
      "metadata": {
        "hide_input": true,
        "colab": {
          "base_uri": "https://localhost:8080/",
          "height": 354
        },
        "cellView": "form",
        "id": "B_u2XKGpd6VX",
        "outputId": "ea0155f4-75d1-4672-9eea-8046a6e2c5c0"
      },
      "outputs": [
        {
          "output_type": "display_data",
          "data": {
            "text/plain": [
              "<IPython.core.display.HTML object>"
            ],
            "text/html": [
              "<a href=\"https://youtu.be/o17UQRWf3Hk?t=214\" target=\"_blank\">Installing NBGrader</a>\n",
              "<br>\n",
              "<iframe width=\"560\" height=\"315\" src=\"https://www.youtube.com/embed/o17UQRWf3Hk?start=214\" title=\"YouTube video player\" frameborder=\"0\" allow=\"accelerometer; autoplay; clipboard-write; encrypted-media; gyroscope; picture-in-picture\" allowfullscreen></iframe>"
            ]
          },
          "metadata": {}
        }
      ],
      "source": [
        "#@title\n",
        "%%html\n",
        "<a href=\"https://youtu.be/o17UQRWf3Hk?t=214\" target=\"_blank\">Installing NBGrader</a>\n",
        "<br>\n",
        "<iframe width=\"560\" height=\"315\" src=\"https://www.youtube.com/embed/o17UQRWf3Hk?start=214\" title=\"YouTube video player\" frameborder=\"0\" allow=\"accelerometer; autoplay; clipboard-write; encrypted-media; gyroscope; picture-in-picture\" allowfullscreen></iframe>"
      ]
    },
    {
      "cell_type": "code",
      "execution_count": 9,
      "metadata": {
        "hide_input": true,
        "colab": {
          "base_uri": "https://localhost:8080/",
          "height": 354
        },
        "cellView": "form",
        "id": "ohuedSgsd6VX",
        "outputId": "2285ec78-356c-4924-932b-39f6beea3000"
      },
      "outputs": [
        {
          "output_type": "display_data",
          "data": {
            "text/plain": [
              "<IPython.core.display.HTML object>"
            ],
            "text/html": [
              "<a href=\"https://youtu.be/S1Dj81KapSY\" target=\"_blank\">Configuring NBGrader to use TUI Nextcloud Exchange Folder in Ubuntu 20.04r</a>\n",
              "<br>\n",
              "<iframe width=\"560\" height=\"315\" src=\"https://www.youtube.com/embed/S1Dj81KapSY?start=214\" title=\"YouTube video player\" frameborder=\"0\" allow=\"accelerometer; autoplay; clipboard-write; encrypted-media; gyroscope; picture-in-picture\" allowfullscreen></iframe>"
            ]
          },
          "metadata": {}
        }
      ],
      "source": [
        "#@title\n",
        "%%html\n",
        "<a href=\"https://youtu.be/S1Dj81KapSY\" target=\"_blank\">Configuring NBGrader to use TUI Nextcloud Exchange Folder in Ubuntu 20.04r</a>\n",
        "<br>\n",
        "<iframe width=\"560\" height=\"315\" src=\"https://www.youtube.com/embed/S1Dj81KapSY?start=214\" title=\"YouTube video player\" frameborder=\"0\" allow=\"accelerometer; autoplay; clipboard-write; encrypted-media; gyroscope; picture-in-picture\" allowfullscreen></iframe>"
      ]
    },
    {
      "cell_type": "markdown",
      "metadata": {
        "id": "ZTl9Ivce48zg"
      },
      "source": [
        "## Students Workflow"
      ]
    },
    {
      "cell_type": "code",
      "execution_count": 10,
      "metadata": {
        "hide_input": true,
        "colab": {
          "base_uri": "https://localhost:8080/",
          "height": 354
        },
        "cellView": "form",
        "id": "OCGPUvV1d6VY",
        "outputId": "a8ff5af5-83e8-4cfd-d322-73533756fa89"
      },
      "outputs": [
        {
          "output_type": "display_data",
          "data": {
            "text/plain": [
              "<IPython.core.display.HTML object>"
            ],
            "text/html": [
              "<a href=\"https://youtu.be/zYGQ8LPlbD4\" target=\"_blank\">Introduction to `Google Colab` for Research.</a>\n",
              "<br>\n",
              "<iframe width=\"560\" height=\"315\" src=\"https://www.youtube.com/embed/zYGQ8LPlbD4\" title=\"YouTube video player\" frameborder=\"0\" allow=\"accelerometer; autoplay; clipboard-write; encrypted-media; gyroscope; picture-in-picture\" allowfullscreen></iframe>"
            ]
          },
          "metadata": {}
        }
      ],
      "source": [
        "#@title\n",
        "%%html\n",
        "<a href=\"https://youtu.be/zYGQ8LPlbD4\" target=\"_blank\">Introduction to `Google Colab` for Research.</a>\n",
        "<br>\n",
        "<iframe width=\"560\" height=\"315\" src=\"https://www.youtube.com/embed/zYGQ8LPlbD4\" title=\"YouTube video player\" frameborder=\"0\" allow=\"accelerometer; autoplay; clipboard-write; encrypted-media; gyroscope; picture-in-picture\" allowfullscreen></iframe>"
      ]
    },
    {
      "cell_type": "markdown",
      "metadata": {
        "id": "d_pn37Of48zh"
      },
      "source": [
        " - This is based on the terminal command line, but the same commands are also available in the Jupyter notebook, if the extensions are installed and enabled. Assume there is a seminar problem set with name \"pstest\".\n",
        " - Have the shared Nextcloud exchange directory, `e.g. “~/Nextcloud/tmp/exchange”`.\n",
        " - In your home directory, create a course home directory, like `~/VC/student_home`.\n",
        " - Copy (or write) the file “nbgrader_config.py” in the “student_home” directory. Adapt its exchange path to your own Nextcloud exchange directory (`/home/yourusername/Nextcloud/tmp/exchange`).\n",
        " - Make sure to enter your Matrikelnummer as your `student_id` in the `nbgrader_config.py` file as indicated below.\n",
        " - The `nbgrader_config.py` is Python file that should contain something like:\n",
        "```python\n",
        "c = get_config()\n",
        "c.CourseDirectory.course_id = \"VC\"\n",
        "c.CourseDirectory.student_id = \"Enter your Matrikel Number Here\"\n",
        "c.Exchange.root = \"/home/schuller/Nextcloud/tmp/exchange\n",
        "```\n",
        " - You find a template of the `nbgrader_config.py`at https://github.com/TUIlmenauAMS/Videocoding/tree/main/seminars\n",
        " - Then students can run (in the student_home directory):\n",
        "\n",
        "```bash\n",
        "jimiHendrix@woodstock:~$ nbgrader list\n",
        "```\n",
        " to see the assignments.\n",
        " \n",
        " - Then students can fetch the latest assignment with:\n",
        "\n",
        "```bash\n",
        "jimiHendrix@woodstock:~$ nbgrader fetch_assignment \"pstest\"\n",
        "```\n",
        "This creates a directory “pstest” with the *.ipynb files in it.\n",
        "\n",
        " - Students then work on the *.ipynb files there, starting “jupyter notebook” to enter their solution in their notebook, and/or add additional files there.\n",
        " - In the student_home directory (parent directory of “pstest”) submit it with command:\n",
        "\n",
        "```bash\n",
        "jimiHendrix@woodstock:~$ nbgrader submit \"pstest\"\n",
        "```\n",
        "This can be done multiple times, will be stored with different time stamps.\n",
        "\n",
        "This creates an `inbound ` directory in `~/Nextcloud/tmp/exchange`, if necessary, and puts the *.ipynb files there, with the students name, problem set name, submission time and a random number in the file names.\n",
        " - Students can check their submission in their home directory with command:\n",
        "\n",
        "```bash\n",
        "jimiHendrix@woodstock:~$ nbgrader list –inbound\n",
        "```\n",
        " - After grading, you can see your points with the command:\n",
        "\n",
        "```bash\n",
        "jimiHendrix@woodstock:~$ nbgrader fetch_feedback \"pstest\"\n",
        "```\n",
        "which is then in the `Student_home/pstest/feedback` directory as `html` file, which should be opened\n",
        "with a browser,\n"
      ]
    }
  ],
  "metadata": {
    "colab": {
      "name": "vc_seminars_intro.ipynb",
      "provenance": []
    },
    "kernelspec": {
      "display_name": "Python 3 (ipykernel)",
      "language": "python",
      "name": "python3"
    },
    "language_info": {
      "codemirror_mode": {
        "name": "ipython",
        "version": 3
      },
      "file_extension": ".py",
      "mimetype": "text/x-python",
      "name": "python",
      "nbconvert_exporter": "python",
      "pygments_lexer": "ipython3",
      "version": "3.8.13"
    },
    "toc": {
      "base_numbering": 1,
      "nav_menu": {},
      "number_sections": true,
      "sideBar": true,
      "skip_h1_title": false,
      "title_cell": "Table of Contents",
      "title_sidebar": "Contents",
      "toc_cell": false,
      "toc_position": {},
      "toc_section_display": true,
      "toc_window_display": false
    }
  },
  "nbformat": 4,
  "nbformat_minor": 0
}