{
  "cells": [
    {
      "cell_type": "markdown",
      "metadata": {
        "id": "_pv4VsExEN23"
      },
      "source": [
        "<a target=\"_blank\" href=\"https://colab.research.google.com/github/TUIlmenauAMS/Videocoding/blob/main/LecturesJupterNotebooks/Lecture10/Lecture10.ipynb\">\n",
        "  <img src=\"https://colab.research.google.com/assets/colab-badge.svg\" alt=\"Open In Colab\"/>\n",
        "</a>\n",
        "\n",
        "<font size=\"8\" color =\"Brown\"><center>\n",
        "# Lecture 10 Video Coding\n",
        "# Cascade Transforms H264, Wavelets      \n",
        "<center></font>\n",
        "<br>\n",
        "\n",
        "<p style=\"line-height:1.5\">\n",
        "<font size=\"6\">H.264 features different block sizes, including a so-called macro block, which can be seen in following picture:\n",
        "<br>\n",
        "    \n",
        "![Lecture10-1.PNG](https://github.com/TUIlmenauAMS/Videocoding/blob/main/LecturesJupterNotebooks/Lecture10/Img-Lecture10/Lecture10-1.PNG?raw=1)    \n",
        "    <br>\n",
        "(From: Al Bovik, Ed., \"The Essential Guide to Video Processing\", 2009).<br>\n",
        "Macro blocks have the size of 16x16 samples, and can be subdivided, as can be seen in the picture. H.264 also offers the possibility of different transform block sizes, starting with 8x8 transforms, which can be divided into smaller blocks, down to 4x4 transforms, for which we saw the integer transform last time. Macro blocks are used for motion estimation and common coding.\n",
        "<br><br>\n",
        "For the common coding, assume we have a 16x16 macro block and 16 4x4 transforms in the macro block. The **16 DC coefficients** of these transforms are taken into a new block, which is then again transformed, but this time with a WHT instead of the integer DCT. The integer DCT was also tried, but it was found that for these DC coefficients it has no advantage compared to the WHT, but the WHT is simpler to implement and leads to smaller subband coeffients, which need fewer bits (see: H. Malvar et. al: „Low Complexity Transform and Quantization in H.264/AVC“, IEEE Trans. on Circuits and Systems for Video Technology, July 2003).<br>\n",
        "This structure can be seen in the following picture:    <br>\n",
        "![Lecture10-2.PNG](https://github.com/TUIlmenauAMS/Videocoding/blob/main/LecturesJupterNotebooks/Lecture10/Img-Lecture10/Lecture10-2.PNG?raw=1)    \n",
        "<br>\n",
        "(From: Richardson, \"H.264 / MPEG-4 Part 10 White Paper\"<br>\n",
        "www.vcodex.com, 2003)\n",
        "\n",
        "</font></p>    "
      ]
    },
    {
      "cell_type": "markdown",
      "metadata": {
        "id": "X4lhUBGwEN27"
      },
      "source": [
        "\n",
        "<font size=\"8\" color =\"Brown\"><center>\n",
        "# **Wavelet Approaches**\n",
        "        \n",
        "<center></font>\n",
        "<br>\n",
        "\n",
        "<p style=\"line-height:1.5\">\n",
        "<font size=\"6\">\n",
        "    \n",
        "Back to the cascaded transform. The collection of DC coefficients into a new block with a following transform can also be seen as a tree structure subband decomposition:<br>\n",
        "![Lecture10-3.PNG](https://github.com/TUIlmenauAMS/Videocoding/blob/main/LecturesJupterNotebooks/Lecture10/Img-Lecture10/Lecture10-3.PNG?raw=1)    \n",
        "<br>\n",
        "(left: DCT, right: WHT)<br>\n",
        "This is the analysis filter bank structure for the encoder, for the decoder we need the synthesis filter bank, which is the reverse structure with upsamplers instead of downsamplers.<br>\n",
        "This particular structure is used in H.264, but different but similar structures can be found in other coders.<br>\n",
        "This cascaded tree-structured subband decomposition is also called a Discrete Wavelet Transform (DWT). Another type of Wavelets is used in JPEG 2000, which is an image coder, but whose algorithm is also used in Motion JPEG. Motion JPEG is a video coder, which does not use motion compensation, but encodes each frame individually as an JPEG image (see also<br> http://en.wikipedia.org/wiki/Motion_JPEG). This is used e.g. in digital cameras. A sequence of JPEG2000 encoded pictures is used for instance for digital cinema<br> (http://en.wikipedia.org/wiki/Digital_cinema).\n",
        "<br><br>\n",
        "The equivalent DCT and WHT filters are not particlarly good filters, because they are only as long as the number of subbands we use. To solve this problem, longer Wavelet filters where designed, most often for the 2 band case, where we only have 2 subbands, which are then cascaded.<br>\n",
        "The so-called Daubechies (9;7) Filter pair, uses an anlysis lowpass filter with impulse response of length 9:<br><br>\n",
        "![Lecture10-4.PNG](https://github.com/TUIlmenauAMS/Videocoding/blob/main/LecturesJupterNotebooks/Lecture10/Img-Lecture10/Lecture10-4.png?raw=1)    \n",
        "The corresponding frequency response is\n",
        "![Lecture10-5.PNG](https://github.com/TUIlmenauAMS/Videocoding/blob/main/LecturesJupterNotebooks/Lecture10/Img-Lecture10/Lecture10-5.png?raw=1)    \n",
        "The analysis high-pass filter impulse response has length 7\n",
        "![Lecture10-6.PNG](https://github.com/TUIlmenauAMS/Videocoding/blob/main/LecturesJupterNotebooks/Lecture10/Img-Lecture10/Lecture10-6.png?raw=1)    \n",
        "The corresponding frequency response is<br>\n",
        "\n",
        "![Lecture10-7.PNG](https://github.com/TUIlmenauAMS/Videocoding/blob/main/LecturesJupterNotebooks/Lecture10/Img-Lecture10/Lecture10-7.png?raw=1)    \n",
        "What is interesting here is that we have a very high attenuation around DC, which is important for images because most energy is concentrated there, and in this way we avoid \"crosstalk\" of this energy to the higher subband.<br>\n",
        "During filter design this is obtained by placing as many zeros as possible at frequency zero. This can also be seen in the follwoing pole-zero plot,<br>\n",
        "\n",
        "![Lecture10-8.PNG](https://github.com/TUIlmenauAMS/Videocoding/blob/main/LecturesJupterNotebooks/Lecture10/Img-Lecture10/Lecture10-8.png?raw=1)\n",
        "**Pole-zero plot** (z-domain, see also lecture **\"Advanced Digital Signal Processing\"** in Moodle2, slides 7, no password required) of the impulse response of the Daubechies analysis high pass.<br><br>\n",
        "This type of wavelet filters is, for this reason, also called \"maximally flat\" (which refers to the low pass filter, good attenuation of high frequencies means a relatively smooth impulse response).<br>\n",
        "We see the impulse responses are **symmetric*** around their center. This is connected to the zeros in the pole/zero diagram being conjugate reverse around the unit circle, one at -1/3, the other at -3 (see also lecture **Advanced Digital Signal Processing, slides 8 and 9**). This leads to **linear phase filters**, which means their group delay (the derivative of the phase towards frequency, see ADSP) for different frequencies is the same for all frequencies. This is important for edges in the image, which contain many frequencies, and which need to stay together **to obtain sharp edges** after filtering.\n",
        "<br><br>\n",
        "Using this 2-band filter bank, we can built a tree structure to obtain higher frequency resolution at low frequenies, as can be seen in the following picture,\n",
        "<br>\n",
        "\n",
        "![Lecture10-9.PNG](https://github.com/TUIlmenauAMS/Videocoding/blob/main/LecturesJupterNotebooks/Lecture10/Img-Lecture10/Lecture10-9.PNG?raw=1)\n",
        "2x2 band Analysis for images: (TP mean Low Pass)\n",
        "\n",
        "\n",
        "</font></p>    "
      ]
    },
    {
      "cell_type": "markdown",
      "metadata": {
        "id": "p47_Gj9oEN28"
      },
      "source": [
        "\n",
        "\n",
        "\n",
        "<p style=\"line-height:1.5\">\n",
        "<font size=\"6\">\n",
        "Synthesis:\n",
        "<br>\n",
        "\n",
        "![Lecture10-10.PNG](https://github.com/TUIlmenauAMS/Videocoding/blob/main/LecturesJupterNotebooks/Lecture10/Img-Lecture10/Lecture10-10.PNG?raw=1)\n",
        "    \n",
        "    \n",
        "</font></p>    "
      ]
    }
  ],
  "metadata": {
    "kernelspec": {
      "display_name": "Python 3",
      "language": "python",
      "name": "python3"
    },
    "language_info": {
      "codemirror_mode": {
        "name": "ipython",
        "version": 3
      },
      "file_extension": ".py",
      "mimetype": "text/x-python",
      "name": "python",
      "nbconvert_exporter": "python",
      "pygments_lexer": "ipython3",
      "version": "3.6.5"
    },
    "colab": {
      "provenance": []
    }
  },
  "nbformat": 4,
  "nbformat_minor": 0
}