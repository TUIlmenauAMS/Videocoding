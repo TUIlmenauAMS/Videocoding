{
  "cells": [
    {
      "cell_type": "markdown",
      "metadata": {
        "id": "2fGkzXL7zr5N"
      },
      "source": [
        "<a target=\"_blank\" href=\"https://colab.research.google.com/github/TUIlmenauAMS/Videocoding/blob/main/LecturesJupterNotebooks/Lecture5/Lecture5.ipynb\">\n",
        "  <img src=\"https://colab.research.google.com/assets/colab-badge.svg\" alt=\"Open In Colab\"/>\n",
        "</a>\n",
        "\n",
        "<font size=\"8\" color =\"Brown\"><center>\n",
        "# Lecture 5, Video Coding Transform Coding, Synthesis\n",
        "        \n",
        "</center></font>\n",
        "<br>\n",
        "\n",
        "<p style=\"line-height:1.5\">\n",
        "<font size=\"6\">\n",
        "    \n",
        "Last time we saw how we can apply transform coding to our image blocks, and how to invert the transform for the decoding process. We also saw that we can interpret the transform as a special case of a filter bank. For the analysis the filters appear as columns of the transform matrix, in **reverse order**. How does the equivalent filter bank look like for the synthesis?\n",
        "<br><br>\n",
        "For the synthesis we had the equation.<br>\n",
        "$$\n",
        "\\boldsymbol x =\\boldsymbol T^{-T} \\cdot \\boldsymbol y \\cdot \\boldsymbol T^{-1}\n",
        "$$\n",
        "Now if we look at a synthesis filter bank, we first **upsample** our subband signals by N, and then **filter** them with our synthesis filters.\n",
        "The following picture shows a 1-dimensional synthesis filter bank (in the decoder) with critical sampling ($m$ here is the block index, the y correspond to one row or one column):   \n",
        "![Lecture5-1.PNG](https://github.com/TUIlmenauAMS/Videocoding/blob/main/LecturesJupterNotebooks/Lecture5/Img-Lecture5/Lecture5-1.PNG?raw=1)    \n",
        "<br>\n",
        "In this block diagram we can see that we obtain the impulse response of filter $h_k$ by inputing an impulse in subband $y_k$, and zeros in all other subbands,<br>\n",
        "$y_k(0)=1$, and 0 else.<br>\n",
        "Now apply this impulse function as vector $\\boldsymbol y$ to our transform implementation, and we get<br>\n",
        "$$\\boldsymbol y. \\boldsymbol T^{-1}$$\n",
        "We can view this synthesis transform as a matrix consisting of row vectors,<br>\n",
        "$$\n",
        "\\boldsymbol T ^{-1}=\\left[ \\matrix{\\boldsymbol t_0 \\cr\n",
        "\\boldsymbol t_1 \\cr\n",
        "....\\cr\n",
        "\\boldsymbol t_{N-1}} \\right]\n",
        "$$\n",
        "Hence, the result is the k'th row of the synthesis matrix,\n",
        "<br>\n",
        "$$\n",
        "\\boldsymbol y \\cdot \\boldsymbol T^{-1}=\\boldsymbol t_k\n",
        "$$\n",
        "<br>\n",
        "Now we see that the **impulse response** of our k'th subband filter of our transforn is its **k'th row, not reversed in space** (or time), **unlike the analysis**.<br>\n",
        "Again we find that we have filters of exactly the transform length N. Observe that for $\\boldsymbol T^{-T}$ we obtain the equivalent impulse resonses in the columns (since it is the transpose matrix).<br>\n",
        "<br>\n",
        "**In Conclusion:** We obtain the equivalent synthesis filter bank impulse response by reading out **each row** of the synthesis transform Matrix, now **not reversed**.\n",
        "<br><br>\n",
        "To know the equivalent impulse response has the advantage that we can **anlyse them**, for instance by **looking at their frequency responses** by applying the Fourier transform (freqz) to them.\n",
        "<br>\n",
        "<br>    \n",
        "<center> **Python Example:** </center>\n",
        "<br>\n",
        "Take again the DCT2 as our transform matrix,\n",
        "</font></p>    "
      ]
    },
    {
      "cell_type": "code",
      "execution_count": null,
      "metadata": {
        "id": "IhqZgaR_zr5P",
        "outputId": "286c886c-7232-4eab-adcb-ce5fe85ed485"
      },
      "outputs": [
        {
          "data": {
            "text/plain": [
              "matrix([[ 0.5       ,  0.65328148,  0.5       ,  0.27059805],\n",
              "        [ 0.5       ,  0.27059805, -0.5       , -0.65328148],\n",
              "        [ 0.5       , -0.27059805, -0.5       ,  0.65328148],\n",
              "        [ 0.5       , -0.65328148,  0.5       , -0.27059805]])"
            ]
          },
          "execution_count": 1,
          "metadata": {},
          "output_type": "execute_result"
        }
      ],
      "source": [
        "import numpy as np\n",
        "import scipy.fftpack\n",
        "I=np.eye(4)\n",
        "T=scipy.fftpack.dct(I,norm='ortho')\n",
        "T=np.matrix(T)\n",
        "T"
      ]
    },
    {
      "cell_type": "markdown",
      "metadata": {
        "id": "u2a31AUAzr5Q"
      },
      "source": [
        "<p style=\"line-height:1.5\">\n",
        "<font size=\"6\">The inverse matrix then is used for the inverse transform (in the decoder),\n",
        "</font></p>"
      ]
    },
    {
      "cell_type": "code",
      "execution_count": null,
      "metadata": {
        "id": "y2pq9xwrzr5Q",
        "outputId": "77012598-6a84-4408-9b58-90b2d0b6460e"
      },
      "outputs": [
        {
          "data": {
            "text/plain": [
              "matrix([[ 0.5       ,  0.5       ,  0.5       ,  0.5       ],\n",
              "        [ 0.65328148,  0.27059805, -0.27059805, -0.65328148],\n",
              "        [ 0.5       , -0.5       , -0.5       ,  0.5       ],\n",
              "        [ 0.27059805, -0.65328148,  0.65328148, -0.27059805]])"
            ]
          },
          "execution_count": 2,
          "metadata": {},
          "output_type": "execute_result"
        }
      ],
      "source": [
        "Tinv=T.I\n",
        "Tinv\n"
      ]
    },
    {
      "cell_type": "markdown",
      "metadata": {
        "id": "7d3UMVvzzr5Q"
      },
      "source": [
        "<p style=\"line-height:1.5\">\n",
        "<font size=\"6\"><br>\n",
        "Observe that the inverse matrix is identical to its transpose. This is because the DCT2 transform matrix is **Orthogonal** (the transpose needs a factor to become the inverse) or **Orthonormal** (the transpose needs no factor to become the inverse).<br><br>\n",
        "Here we can see that, for instance, the first row contains the impulse response of the **first synthesis** filter, $h_0(n)$, which here is indeed **identical** to the **first analysis** filter.<br>\n",
        "Or, take the $2^{nd}$ subband, $h_1(n)$, as an example. In the analysis part, we have the equivalent impulse response of the $2^{nd}$ analysis filter as\n",
        "<br><br></font></p>"
      ]
    },
    {
      "cell_type": "code",
      "execution_count": null,
      "metadata": {
        "id": "NguCQjJZzr5Q",
        "outputId": "7895a888-ede6-4c59-bcbc-6145f54b5374"
      },
      "outputs": [
        {
          "data": {
            "text/plain": [
              "matrix([[-0.65328148],\n",
              "        [-0.27059805],\n",
              "        [ 0.27059805],\n",
              "        [ 0.65328148]])"
            ]
          },
          "execution_count": 3,
          "metadata": {},
          "output_type": "execute_result"
        }
      ],
      "source": [
        "h1=np.flipud(T[:,1])\n",
        "h1"
      ]
    },
    {
      "cell_type": "markdown",
      "metadata": {
        "id": "iFLGcuwPzr5Q"
      },
      "source": [
        "<p style=\"line-height:1.5\">\n",
        "<font size=\"6\"><br>\n",
        "The $2^{nd}$ synthesis filter $h_1(n)$is obtained with<br><br>\n",
        "</font></p>"
      ]
    },
    {
      "cell_type": "code",
      "execution_count": null,
      "metadata": {
        "id": "j1SNCtwhzr5Q",
        "outputId": "487751be-2577-4dcf-cb91-7814c0728a2a"
      },
      "outputs": [
        {
          "data": {
            "text/plain": [
              "matrix([[ 0.65328148,  0.27059805, -0.27059805, -0.65328148]])"
            ]
          },
          "execution_count": 4,
          "metadata": {},
          "output_type": "execute_result"
        }
      ],
      "source": [
        "Tinv[1,:]"
      ]
    },
    {
      "cell_type": "markdown",
      "metadata": {
        "id": "uvhMqB-lzr5R"
      },
      "source": [
        "<p style=\"line-height:1.5\">\n",
        "<font size=\"6\">\n",
        "    <br>\n",
        "We can see that this $2^{nd}$ **synthesis** impulse response (a row vector) is the **time reverse** version of the $2^{nd}$ **analysis** impulse response (a column vector). Observe that this is generally true for **orthogonal transform** matrices (where the synthesis matrix is the (conjugate) transpose of the analysis matrix)!<br><br>\n",
        "\n",
        "Taking again our subband block $\\boldsymbol y$ from our previous example,<br><br></font></p>"
      ]
    },
    {
      "cell_type": "code",
      "execution_count": null,
      "metadata": {
        "id": "L42q6NuZzr5R",
        "outputId": "ba033730-cf83-49c2-e859-e417d8cbc606"
      },
      "outputs": [
        {
          "data": {
            "text/plain": [
              "matrix([[1.2, 0. , 0. , 0. ],\n",
              "        [0. , 0. , 0. , 0. ],\n",
              "        [0. , 0. , 0. , 0. ],\n",
              "        [0. , 0. , 0. , 0. ]])"
            ]
          },
          "execution_count": 5,
          "metadata": {},
          "output_type": "execute_result"
        }
      ],
      "source": [
        "x=0.3*np.ones((4,4))\n",
        "y=np.dot(np.dot(np.transpose(T),x),T)\n",
        "y"
      ]
    },
    {
      "cell_type": "markdown",
      "metadata": {
        "id": "KafVP_P9zr5R"
      },
      "source": [
        "<p style=\"line-height:1.5\">\n",
        "<font size=\"6\">\n",
        "    <br>we get the inverse transform with<br><br>\n",
        "</font></p>"
      ]
    },
    {
      "cell_type": "code",
      "execution_count": null,
      "metadata": {
        "id": "sgpMHklUzr5R",
        "outputId": "4c78d111-241b-46a9-d324-687ad6e46b4f"
      },
      "outputs": [
        {
          "data": {
            "text/plain": [
              "matrix([[0.3, 0.3, 0.3, 0.3],\n",
              "        [0.3, 0.3, 0.3, 0.3],\n",
              "        [0.3, 0.3, 0.3, 0.3],\n",
              "        [0.3, 0.3, 0.3, 0.3]])"
            ]
          },
          "execution_count": 6,
          "metadata": {},
          "output_type": "execute_result"
        }
      ],
      "source": [
        "np.dot(np.dot(np.transpose(Tinv),y),Tinv)\n"
      ]
    },
    {
      "cell_type": "markdown",
      "metadata": {
        "id": "ljJIclvEzr5R"
      },
      "source": [
        "<p style=\"line-height:1.5\">\n",
        "<font size=\"6\">\n",
        "<br>Here we see that we indeed get our original block back!<br>\n",
        "(Observe that inv(T') = inv(T)' ).<br>\n",
        "<br>\n",
        "Also Observe that the beauty of this approach is, that we can deal with each block of our image **independently** of the others blocks, meaning there is no overlap of filters into neighbouring blocks!\n",
        "<br><br>\n",
        "\n",
        "**Place of the Transform in Image/Video Coding**\n",
        "<br>\n",
        "<br>\n",
        "The following two block diagrams show where in an image or video coder the transform appears. Observe that it is applied after the color transform and the low pass (LP) filtering  and down sampling. DC$_r$ and  DC$_b$ denote the downsampled color components, and the subscript \"dec\" denotes the decoder versions.\n",
        "<br>\n",
        "![Lecture5-2.JPG](https://github.com/TUIlmenauAMS/Videocoding/blob/main/LecturesJupterNotebooks/Lecture5/Img-Lecture5/Lecture5-2.jpg?raw=1)\n",
        "<br>\n",
        "<br>\n",
        "![Lecture5-3.JPG](https://github.com/TUIlmenauAMS/Videocoding/blob/main/LecturesJupterNotebooks/Lecture5/Img-Lecture5/Lecture5-3.jpg?raw=1)\n",
        "</font></p>"
      ]
    },
    {
      "cell_type": "code",
      "execution_count": null,
      "metadata": {
        "id": "MftVSLNnzr5R"
      },
      "outputs": [],
      "source": []
    }
  ],
  "metadata": {
    "kernelspec": {
      "display_name": "Python 3 (ipykernel)",
      "language": "python",
      "name": "python3"
    },
    "language_info": {
      "codemirror_mode": {
        "name": "ipython",
        "version": 3
      },
      "file_extension": ".py",
      "mimetype": "text/x-python",
      "name": "python",
      "nbconvert_exporter": "python",
      "pygments_lexer": "ipython3",
      "version": "3.10.12"
    },
    "colab": {
      "provenance": []
    }
  },
  "nbformat": 4,
  "nbformat_minor": 0
}